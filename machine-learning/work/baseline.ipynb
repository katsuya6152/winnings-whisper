{
 "cells": [
  {
   "cell_type": "code",
   "execution_count": 1,
   "metadata": {},
   "outputs": [],
   "source": [
    "import datetime as dt\n",
    "import os\n",
    "import re\n",
    "\n",
    "from dotenv import load_dotenv\n",
    "import lightgbm as lgbm\n",
    "import matplotlib.pyplot as plt\n",
    "import numpy as np\n",
    "import pandas as pd\n",
    "import seaborn as sns\n",
    "from sklearn import preprocessing\n",
    "from sklearn.metrics import confusion_matrix, roc_curve, roc_auc_score\n",
    "import sqlalchemy\n",
    "from sqlalchemy import text"
   ]
  },
  {
   "cell_type": "code",
   "execution_count": 2,
   "metadata": {},
   "outputs": [],
   "source": [
    "load_dotenv(dotenv_path='../.env')\n",
    "\n",
    "user = os.environ.get('DB_USER')\n",
    "password = os.environ.get('DB_PASS')\n",
    "host = os.environ.get('HOST')\n",
    "port = os.environ.get('DB_PORT')\n",
    "database = os.environ.get('DB_NAME')\n",
    "\n",
    "url = f'mysql+mysqlconnector://{user}:{password}@{host}:{port}/{database}'\n",
    "\n",
    "engine = sqlalchemy.create_engine(url)"
   ]
  },
  {
   "cell_type": "code",
   "execution_count": 3,
   "metadata": {},
   "outputs": [],
   "source": [
    "query = 'select * from races'\n",
    "race_df = pd.read_sql_query(sql=text(query), con=engine.connect())"
   ]
  },
  {
   "cell_type": "code",
   "execution_count": 4,
   "metadata": {},
   "outputs": [],
   "source": [
    "read_race_results = 'select * from race_results'\n",
    "race_results_df = pd.read_sql_query(sql=text(read_race_results), con=engine.connect())"
   ]
  },
  {
   "cell_type": "code",
   "execution_count": 5,
   "metadata": {},
   "outputs": [],
   "source": [
    "merge_df = pd.merge(race_df, race_results_df, on='id', how='left')\n",
    "merge_df = merge_df.dropna(subset=[\"id\"])"
   ]
  },
  {
   "cell_type": "code",
   "execution_count": 6,
   "metadata": {},
   "outputs": [],
   "source": [
    "USE_COLUMNS = [\n",
    "    \"id\", \"race_name\", \"race_place\", \"number_of_entries\", \"race_state\", \"date\",\n",
    "    \"rank\", \"box\", \"horse_order\", \"sex_and_age\", \"burden_weight\",\n",
    "    \"jockey\", \"horse_weight\", \"horse_trainer\", \"horse_owner\"\n",
    "]\n",
    "\n",
    "use_df = merge_df[USE_COLUMNS]"
   ]
  },
  {
   "cell_type": "code",
   "execution_count": 7,
   "metadata": {},
   "outputs": [],
   "source": [
    "def get_race_state_features(df):\n",
    "    return_df = df.copy()\n",
    "    return_df[\"race_course\"] = df[\"race_state\"].str[1]\n",
    "    return_df[\"race_distance\"] = df[\"race_state\"].str[2:6]\n",
    "    return_df[\"race_weather\"] = df[\"race_state\"].str[15]\n",
    "    return_df[\"race_state\"] = df[\"race_state\"].str[23]\n",
    "    return_df[\"race_start\"] =  df[\"race_state\"].str[32:37].str.replace(\":\", \"\")\n",
    "    return return_df"
   ]
  },
  {
   "cell_type": "code",
   "execution_count": 8,
   "metadata": {},
   "outputs": [],
   "source": [
    "def get_sex_and_age(df):\n",
    "    return_df = df.copy()\n",
    "    return_df[\"sex\"] = return_df[\"sex_and_age\"].str[0]\n",
    "    return_df[\"age\"] = return_df[\"sex_and_age\"].str[1]\n",
    "    return return_df"
   ]
  },
  {
   "cell_type": "code",
   "execution_count": 9,
   "metadata": {},
   "outputs": [],
   "source": [
    "def get_horse_weight(df):\n",
    "    return_df = df.copy()\n",
    "    return_df[\"difference_weight\"] = return_df[\"horse_weight\"].str[3:]\n",
    "    return_df[\"difference_weight\"] = return_df[\"difference_weight\"].replace(re.compile(\"\\(|\\)\"), \"\", regex=True)\n",
    "    return_df[return_df['difference_weight'] == ''] = -9999\n",
    "    return_df[\"difference_weight\"] = return_df[\"difference_weight\"].astype(int)\n",
    "    return_df[return_df['difference_weight'] == -9999] = None\n",
    "    return_df[\"horse_weight\"] = return_df[\"horse_weight\"].str[0:3]\n",
    "    return return_df"
   ]
  },
  {
   "cell_type": "code",
   "execution_count": 10,
   "metadata": {},
   "outputs": [],
   "source": [
    "def get_date(df):\n",
    "    return_df = df.copy()\n",
    "    return_df['date'] = return_df['date'].str.split(' ', expand=True)[0]\n",
    "    return_df['date'] = pd.to_datetime(return_df['date'], format='%Y年%m月%d日')\n",
    "    return_df['day_of_year'] = return_df['date'].dt.day_of_year\n",
    "    return_df['date_cos'] = np.cos(2 * np.pi * return_df['day_of_year'] / return_df['day_of_year'].max())\n",
    "    return_df['date_sin'] = np.sin(2 * np.pi * return_df['day_of_year'] / return_df['day_of_year'].max())\n",
    "    return return_df"
   ]
  },
  {
   "cell_type": "code",
   "execution_count": 11,
   "metadata": {},
   "outputs": [],
   "source": [
    "def get_all_feature(df):\n",
    "    return_df = df.copy()\n",
    "    return_df = get_race_state_features(return_df)\n",
    "    return_df = get_sex_and_age(return_df)\n",
    "    return_df = get_horse_weight(return_df)\n",
    "    return_df = get_date(return_df)\n",
    "    return return_df"
   ]
  },
  {
   "cell_type": "code",
   "execution_count": 12,
   "metadata": {},
   "outputs": [],
   "source": [
    "def label_encoder(df, cols):\n",
    "    return_df = df.copy()\n",
    "    for col in cols:\n",
    "        le = preprocessing.LabelEncoder()\n",
    "        return_df[col] = pd.Series(le.fit_transform(return_df[col]))\n",
    "    return return_df"
   ]
  },
  {
   "cell_type": "code",
   "execution_count": 13,
   "metadata": {},
   "outputs": [],
   "source": [
    "ENCODING_COLUMNS = [\n",
    "    \"id\", \"race_name\", \"race_place\",\n",
    "    \"race_state\", \"race_course\", \"race_weather\",\n",
    "    \"sex_and_age\", \"sex\",\n",
    "    \"jockey\", \"horse_trainer\", \"horse_owner\"\n",
    "]\n",
    "\n",
    "df = get_all_feature(use_df)\n",
    "encoded_df = label_encoder(df, ENCODING_COLUMNS)"
   ]
  },
  {
   "cell_type": "code",
   "execution_count": 14,
   "metadata": {},
   "outputs": [
    {
     "data": {
      "text/html": [
       "<div>\n",
       "<style scoped>\n",
       "    .dataframe tbody tr th:only-of-type {\n",
       "        vertical-align: middle;\n",
       "    }\n",
       "\n",
       "    .dataframe tbody tr th {\n",
       "        vertical-align: top;\n",
       "    }\n",
       "\n",
       "    .dataframe thead th {\n",
       "        text-align: right;\n",
       "    }\n",
       "</style>\n",
       "<table border=\"1\" class=\"dataframe\">\n",
       "  <thead>\n",
       "    <tr style=\"text-align: right;\">\n",
       "      <th></th>\n",
       "      <th>id</th>\n",
       "      <th>race_name</th>\n",
       "      <th>race_place</th>\n",
       "      <th>number_of_entries</th>\n",
       "      <th>race_state</th>\n",
       "      <th>date</th>\n",
       "      <th>rank</th>\n",
       "      <th>box</th>\n",
       "      <th>horse_order</th>\n",
       "      <th>sex_and_age</th>\n",
       "      <th>...</th>\n",
       "      <th>race_course</th>\n",
       "      <th>race_distance</th>\n",
       "      <th>race_weather</th>\n",
       "      <th>race_start</th>\n",
       "      <th>sex</th>\n",
       "      <th>age</th>\n",
       "      <th>difference_weight</th>\n",
       "      <th>day_of_year</th>\n",
       "      <th>date_cos</th>\n",
       "      <th>date_sin</th>\n",
       "    </tr>\n",
       "  </thead>\n",
       "  <tbody>\n",
       "    <tr>\n",
       "      <th>0</th>\n",
       "      <td>201705010104</td>\n",
       "      <td>3歳未勝利</td>\n",
       "      <td>東京</td>\n",
       "      <td>15.0</td>\n",
       "      <td>良</td>\n",
       "      <td>2017-01-28</td>\n",
       "      <td>1</td>\n",
       "      <td>3</td>\n",
       "      <td>5</td>\n",
       "      <td>牝3</td>\n",
       "      <td>...</td>\n",
       "      <td>左</td>\n",
       "      <td>2400</td>\n",
       "      <td>晴</td>\n",
       "      <td>1140</td>\n",
       "      <td>牝</td>\n",
       "      <td>3</td>\n",
       "      <td>4.0</td>\n",
       "      <td>28.0</td>\n",
       "      <td>0.884212</td>\n",
       "      <td>0.467086</td>\n",
       "    </tr>\n",
       "    <tr>\n",
       "      <th>1</th>\n",
       "      <td>201705010104</td>\n",
       "      <td>3歳未勝利</td>\n",
       "      <td>東京</td>\n",
       "      <td>15.0</td>\n",
       "      <td>良</td>\n",
       "      <td>2017-01-28</td>\n",
       "      <td>2</td>\n",
       "      <td>4</td>\n",
       "      <td>6</td>\n",
       "      <td>牡3</td>\n",
       "      <td>...</td>\n",
       "      <td>左</td>\n",
       "      <td>2400</td>\n",
       "      <td>晴</td>\n",
       "      <td>1140</td>\n",
       "      <td>牡</td>\n",
       "      <td>3</td>\n",
       "      <td>-2.0</td>\n",
       "      <td>28.0</td>\n",
       "      <td>0.884212</td>\n",
       "      <td>0.467086</td>\n",
       "    </tr>\n",
       "    <tr>\n",
       "      <th>2</th>\n",
       "      <td>201705010104</td>\n",
       "      <td>3歳未勝利</td>\n",
       "      <td>東京</td>\n",
       "      <td>15.0</td>\n",
       "      <td>良</td>\n",
       "      <td>2017-01-28</td>\n",
       "      <td>3</td>\n",
       "      <td>2</td>\n",
       "      <td>2</td>\n",
       "      <td>牡3</td>\n",
       "      <td>...</td>\n",
       "      <td>左</td>\n",
       "      <td>2400</td>\n",
       "      <td>晴</td>\n",
       "      <td>1140</td>\n",
       "      <td>牡</td>\n",
       "      <td>3</td>\n",
       "      <td>-6.0</td>\n",
       "      <td>28.0</td>\n",
       "      <td>0.884212</td>\n",
       "      <td>0.467086</td>\n",
       "    </tr>\n",
       "    <tr>\n",
       "      <th>3</th>\n",
       "      <td>201705010104</td>\n",
       "      <td>3歳未勝利</td>\n",
       "      <td>東京</td>\n",
       "      <td>15.0</td>\n",
       "      <td>良</td>\n",
       "      <td>2017-01-28</td>\n",
       "      <td>4</td>\n",
       "      <td>2</td>\n",
       "      <td>3</td>\n",
       "      <td>牡3</td>\n",
       "      <td>...</td>\n",
       "      <td>左</td>\n",
       "      <td>2400</td>\n",
       "      <td>晴</td>\n",
       "      <td>1140</td>\n",
       "      <td>牡</td>\n",
       "      <td>3</td>\n",
       "      <td>2.0</td>\n",
       "      <td>28.0</td>\n",
       "      <td>0.884212</td>\n",
       "      <td>0.467086</td>\n",
       "    </tr>\n",
       "    <tr>\n",
       "      <th>4</th>\n",
       "      <td>201705010104</td>\n",
       "      <td>3歳未勝利</td>\n",
       "      <td>東京</td>\n",
       "      <td>15.0</td>\n",
       "      <td>良</td>\n",
       "      <td>2017-01-28</td>\n",
       "      <td>5</td>\n",
       "      <td>5</td>\n",
       "      <td>8</td>\n",
       "      <td>牡3</td>\n",
       "      <td>...</td>\n",
       "      <td>左</td>\n",
       "      <td>2400</td>\n",
       "      <td>晴</td>\n",
       "      <td>1140</td>\n",
       "      <td>牡</td>\n",
       "      <td>3</td>\n",
       "      <td>0.0</td>\n",
       "      <td>28.0</td>\n",
       "      <td>0.884212</td>\n",
       "      <td>0.467086</td>\n",
       "    </tr>\n",
       "    <tr>\n",
       "      <th>...</th>\n",
       "      <td>...</td>\n",
       "      <td>...</td>\n",
       "      <td>...</td>\n",
       "      <td>...</td>\n",
       "      <td>...</td>\n",
       "      <td>...</td>\n",
       "      <td>...</td>\n",
       "      <td>...</td>\n",
       "      <td>...</td>\n",
       "      <td>...</td>\n",
       "      <td>...</td>\n",
       "      <td>...</td>\n",
       "      <td>...</td>\n",
       "      <td>...</td>\n",
       "      <td>...</td>\n",
       "      <td>...</td>\n",
       "      <td>...</td>\n",
       "      <td>...</td>\n",
       "      <td>...</td>\n",
       "      <td>...</td>\n",
       "      <td>...</td>\n",
       "    </tr>\n",
       "    <tr>\n",
       "      <th>73214</th>\n",
       "      <td>202409010411</td>\n",
       "      <td>大阪城ステークス(L)</td>\n",
       "      <td>阪神</td>\n",
       "      <td>15.0</td>\n",
       "      <td>:</td>\n",
       "      <td>2024-03-03</td>\n",
       "      <td>11</td>\n",
       "      <td>1</td>\n",
       "      <td>1</td>\n",
       "      <td>牝5</td>\n",
       "      <td>...</td>\n",
       "      <td>右</td>\n",
       "      <td>外18</td>\n",
       "      <td>:</td>\n",
       "      <td>15</td>\n",
       "      <td>牝</td>\n",
       "      <td>5</td>\n",
       "      <td>0.0</td>\n",
       "      <td>63.0</td>\n",
       "      <td>0.459395</td>\n",
       "      <td>0.888232</td>\n",
       "    </tr>\n",
       "    <tr>\n",
       "      <th>73215</th>\n",
       "      <td>202409010411</td>\n",
       "      <td>大阪城ステークス(L)</td>\n",
       "      <td>阪神</td>\n",
       "      <td>15.0</td>\n",
       "      <td>:</td>\n",
       "      <td>2024-03-03</td>\n",
       "      <td>12</td>\n",
       "      <td>7</td>\n",
       "      <td>13</td>\n",
       "      <td>牝5</td>\n",
       "      <td>...</td>\n",
       "      <td>右</td>\n",
       "      <td>外18</td>\n",
       "      <td>:</td>\n",
       "      <td>15</td>\n",
       "      <td>牝</td>\n",
       "      <td>5</td>\n",
       "      <td>0.0</td>\n",
       "      <td>63.0</td>\n",
       "      <td>0.459395</td>\n",
       "      <td>0.888232</td>\n",
       "    </tr>\n",
       "    <tr>\n",
       "      <th>73216</th>\n",
       "      <td>202409010411</td>\n",
       "      <td>大阪城ステークス(L)</td>\n",
       "      <td>阪神</td>\n",
       "      <td>15.0</td>\n",
       "      <td>:</td>\n",
       "      <td>2024-03-03</td>\n",
       "      <td>13</td>\n",
       "      <td>2</td>\n",
       "      <td>3</td>\n",
       "      <td>牡4</td>\n",
       "      <td>...</td>\n",
       "      <td>右</td>\n",
       "      <td>外18</td>\n",
       "      <td>:</td>\n",
       "      <td>15</td>\n",
       "      <td>牡</td>\n",
       "      <td>4</td>\n",
       "      <td>-6.0</td>\n",
       "      <td>63.0</td>\n",
       "      <td>0.459395</td>\n",
       "      <td>0.888232</td>\n",
       "    </tr>\n",
       "    <tr>\n",
       "      <th>73217</th>\n",
       "      <td>202409010411</td>\n",
       "      <td>大阪城ステークス(L)</td>\n",
       "      <td>阪神</td>\n",
       "      <td>15.0</td>\n",
       "      <td>:</td>\n",
       "      <td>2024-03-03</td>\n",
       "      <td>14</td>\n",
       "      <td>6</td>\n",
       "      <td>10</td>\n",
       "      <td>牡8</td>\n",
       "      <td>...</td>\n",
       "      <td>右</td>\n",
       "      <td>外18</td>\n",
       "      <td>:</td>\n",
       "      <td>15</td>\n",
       "      <td>牡</td>\n",
       "      <td>8</td>\n",
       "      <td>-4.0</td>\n",
       "      <td>63.0</td>\n",
       "      <td>0.459395</td>\n",
       "      <td>0.888232</td>\n",
       "    </tr>\n",
       "    <tr>\n",
       "      <th>73218</th>\n",
       "      <td>202409010411</td>\n",
       "      <td>大阪城ステークス(L)</td>\n",
       "      <td>阪神</td>\n",
       "      <td>15.0</td>\n",
       "      <td>:</td>\n",
       "      <td>2024-03-03</td>\n",
       "      <td>15</td>\n",
       "      <td>5</td>\n",
       "      <td>8</td>\n",
       "      <td>牡6</td>\n",
       "      <td>...</td>\n",
       "      <td>右</td>\n",
       "      <td>外18</td>\n",
       "      <td>:</td>\n",
       "      <td>15</td>\n",
       "      <td>牡</td>\n",
       "      <td>6</td>\n",
       "      <td>6.0</td>\n",
       "      <td>63.0</td>\n",
       "      <td>0.459395</td>\n",
       "      <td>0.888232</td>\n",
       "    </tr>\n",
       "  </tbody>\n",
       "</table>\n",
       "<p>73219 rows × 25 columns</p>\n",
       "</div>"
      ],
      "text/plain": [
       "                 id    race_name race_place  number_of_entries race_state  \\\n",
       "0      201705010104        3歳未勝利         東京               15.0          良   \n",
       "1      201705010104        3歳未勝利         東京               15.0          良   \n",
       "2      201705010104        3歳未勝利         東京               15.0          良   \n",
       "3      201705010104        3歳未勝利         東京               15.0          良   \n",
       "4      201705010104        3歳未勝利         東京               15.0          良   \n",
       "...             ...          ...        ...                ...        ...   \n",
       "73214  202409010411  大阪城ステークス(L)         阪神               15.0          :   \n",
       "73215  202409010411  大阪城ステークス(L)         阪神               15.0          :   \n",
       "73216  202409010411  大阪城ステークス(L)         阪神               15.0          :   \n",
       "73217  202409010411  大阪城ステークス(L)         阪神               15.0          :   \n",
       "73218  202409010411  大阪城ステークス(L)         阪神               15.0          :   \n",
       "\n",
       "            date rank box horse_order sex_and_age  ... race_course  \\\n",
       "0     2017-01-28    1   3           5          牝3  ...           左   \n",
       "1     2017-01-28    2   4           6          牡3  ...           左   \n",
       "2     2017-01-28    3   2           2          牡3  ...           左   \n",
       "3     2017-01-28    4   2           3          牡3  ...           左   \n",
       "4     2017-01-28    5   5           8          牡3  ...           左   \n",
       "...          ...  ...  ..         ...         ...  ...         ...   \n",
       "73214 2024-03-03   11   1           1          牝5  ...           右   \n",
       "73215 2024-03-03   12   7          13          牝5  ...           右   \n",
       "73216 2024-03-03   13   2           3          牡4  ...           右   \n",
       "73217 2024-03-03   14   6          10          牡8  ...           右   \n",
       "73218 2024-03-03   15   5           8          牡6  ...           右   \n",
       "\n",
       "      race_distance race_weather race_start sex age difference_weight  \\\n",
       "0              2400            晴       1140   牝   3               4.0   \n",
       "1              2400            晴       1140   牡   3              -2.0   \n",
       "2              2400            晴       1140   牡   3              -6.0   \n",
       "3              2400            晴       1140   牡   3               2.0   \n",
       "4              2400            晴       1140   牡   3               0.0   \n",
       "...             ...          ...        ...  ..  ..               ...   \n",
       "73214           外18            :         15   牝   5               0.0   \n",
       "73215           外18            :         15   牝   5               0.0   \n",
       "73216           外18            :         15   牡   4              -6.0   \n",
       "73217           外18            :         15   牡   8              -4.0   \n",
       "73218           外18            :         15   牡   6               6.0   \n",
       "\n",
       "      day_of_year  date_cos  date_sin  \n",
       "0            28.0  0.884212  0.467086  \n",
       "1            28.0  0.884212  0.467086  \n",
       "2            28.0  0.884212  0.467086  \n",
       "3            28.0  0.884212  0.467086  \n",
       "4            28.0  0.884212  0.467086  \n",
       "...           ...       ...       ...  \n",
       "73214        63.0  0.459395  0.888232  \n",
       "73215        63.0  0.459395  0.888232  \n",
       "73216        63.0  0.459395  0.888232  \n",
       "73217        63.0  0.459395  0.888232  \n",
       "73218        63.0  0.459395  0.888232  \n",
       "\n",
       "[73219 rows x 25 columns]"
      ]
     },
     "execution_count": 14,
     "metadata": {},
     "output_type": "execute_result"
    }
   ],
   "source": [
    "df"
   ]
  },
  {
   "cell_type": "code",
   "execution_count": 15,
   "metadata": {},
   "outputs": [],
   "source": [
    "def clean_df(df, int_columns, float_columns):\n",
    "    return_df = df.copy()\n",
    "    return_df['rank'] = return_df['rank'].replace({'1': 1, '2': 1, '3': 1})\n",
    "    return_df.loc[~(return_df['rank'] == 1), 'rank'] = 0\n",
    "    for col in int_columns:\n",
    "        return_df[col] = pd.to_numeric(return_df[col], errors='coerce',downcast='integer')\n",
    "        return_df[col] = return_df[col].fillna(0).astype(int)\n",
    "    for col in float_columns:\n",
    "        return_df[col] = pd.to_numeric(return_df[col], errors='coerce',downcast='float')\n",
    "    return return_df"
   ]
  },
  {
   "cell_type": "code",
   "execution_count": 16,
   "metadata": {},
   "outputs": [],
   "source": [
    "INT_COLUMNS = [\n",
    "    \"box\", \"horse_order\", \"horse_weight\", \"race_distance\",\n",
    "    \"race_start\", \"age\", \"day_of_year\", \"number_of_entries\",\n",
    "    \"difference_weight\", \"day_of_year\", \"rank\"\n",
    "]\n",
    "FLOAT_COLUMNS =[\n",
    "    \"burden_weight\"\n",
    "]\n",
    "\n",
    "clean_df = clean_df(encoded_df, INT_COLUMNS, FLOAT_COLUMNS)"
   ]
  },
  {
   "cell_type": "code",
   "execution_count": 17,
   "metadata": {},
   "outputs": [],
   "source": [
    "def split_df(df):\n",
    "    return_df = df.copy()\n",
    "    train_df = return_df[return_df['date'] < dt.datetime(2021, 1,1)].drop('date', axis=1)\n",
    "    val_df = return_df[(return_df['date'] >= dt.datetime(2021, 1,1)) & (return_df['date'] < dt.datetime(2022, 1,1))].drop('date', axis=1)\n",
    "    test_df = return_df[return_df['date'] > dt.datetime(2022, 1, 1)].drop('date', axis=1)\n",
    "    return train_df, val_df, test_df"
   ]
  },
  {
   "cell_type": "code",
   "execution_count": 18,
   "metadata": {},
   "outputs": [],
   "source": [
    "train_df, val_df, test_df = split_df(clean_df)"
   ]
  },
  {
   "cell_type": "code",
   "execution_count": 19,
   "metadata": {},
   "outputs": [],
   "source": [
    "def split_target(df):\n",
    "    return_df = df.copy()\n",
    "    X = return_df.drop('rank', axis=1)\n",
    "    y = return_df['rank']\n",
    "    return X, y"
   ]
  },
  {
   "cell_type": "code",
   "execution_count": 20,
   "metadata": {},
   "outputs": [],
   "source": [
    "X_train, y_train = split_target(train_df)\n",
    "X_val, y_val = split_target(val_df)\n",
    "X_test, y_test = split_target(test_df)"
   ]
  },
  {
   "cell_type": "code",
   "execution_count": 21,
   "metadata": {},
   "outputs": [
    {
     "name": "stdout",
     "output_type": "stream",
     "text": [
      "Training until validation scores don't improve for 100 rounds\n",
      "[10]\ttraining's auc: 0.706438\tvalid_1's auc: 0.682753\n",
      "[20]\ttraining's auc: 0.72555\tvalid_1's auc: 0.692633\n",
      "[30]\ttraining's auc: 0.738611\tvalid_1's auc: 0.696069\n",
      "[40]\ttraining's auc: 0.752412\tvalid_1's auc: 0.700675\n",
      "[50]\ttraining's auc: 0.762803\tvalid_1's auc: 0.70156\n",
      "[60]\ttraining's auc: 0.772084\tvalid_1's auc: 0.703267\n",
      "[70]\ttraining's auc: 0.780911\tvalid_1's auc: 0.703537\n",
      "[80]\ttraining's auc: 0.788982\tvalid_1's auc: 0.703614\n",
      "[90]\ttraining's auc: 0.796748\tvalid_1's auc: 0.703535\n",
      "[100]\ttraining's auc: 0.804123\tvalid_1's auc: 0.702208\n",
      "[110]\ttraining's auc: 0.810454\tvalid_1's auc: 0.701211\n",
      "[120]\ttraining's auc: 0.816187\tvalid_1's auc: 0.701581\n",
      "[130]\ttraining's auc: 0.822243\tvalid_1's auc: 0.701837\n",
      "[140]\ttraining's auc: 0.827604\tvalid_1's auc: 0.700931\n",
      "[150]\ttraining's auc: 0.83296\tvalid_1's auc: 0.699941\n",
      "[160]\ttraining's auc: 0.838387\tvalid_1's auc: 0.700035\n",
      "[170]\ttraining's auc: 0.843366\tvalid_1's auc: 0.700362\n",
      "[180]\ttraining's auc: 0.84846\tvalid_1's auc: 0.699771\n",
      "Early stopping, best iteration is:\n",
      "[82]\ttraining's auc: 0.790469\tvalid_1's auc: 0.703816\n"
     ]
    },
    {
     "data": {
      "text/html": [
       "<style>#sk-container-id-1 {color: black;background-color: white;}#sk-container-id-1 pre{padding: 0;}#sk-container-id-1 div.sk-toggleable {background-color: white;}#sk-container-id-1 label.sk-toggleable__label {cursor: pointer;display: block;width: 100%;margin-bottom: 0;padding: 0.3em;box-sizing: border-box;text-align: center;}#sk-container-id-1 label.sk-toggleable__label-arrow:before {content: \"▸\";float: left;margin-right: 0.25em;color: #696969;}#sk-container-id-1 label.sk-toggleable__label-arrow:hover:before {color: black;}#sk-container-id-1 div.sk-estimator:hover label.sk-toggleable__label-arrow:before {color: black;}#sk-container-id-1 div.sk-toggleable__content {max-height: 0;max-width: 0;overflow: hidden;text-align: left;background-color: #f0f8ff;}#sk-container-id-1 div.sk-toggleable__content pre {margin: 0.2em;color: black;border-radius: 0.25em;background-color: #f0f8ff;}#sk-container-id-1 input.sk-toggleable__control:checked~div.sk-toggleable__content {max-height: 200px;max-width: 100%;overflow: auto;}#sk-container-id-1 input.sk-toggleable__control:checked~label.sk-toggleable__label-arrow:before {content: \"▾\";}#sk-container-id-1 div.sk-estimator input.sk-toggleable__control:checked~label.sk-toggleable__label {background-color: #d4ebff;}#sk-container-id-1 div.sk-label input.sk-toggleable__control:checked~label.sk-toggleable__label {background-color: #d4ebff;}#sk-container-id-1 input.sk-hidden--visually {border: 0;clip: rect(1px 1px 1px 1px);clip: rect(1px, 1px, 1px, 1px);height: 1px;margin: -1px;overflow: hidden;padding: 0;position: absolute;width: 1px;}#sk-container-id-1 div.sk-estimator {font-family: monospace;background-color: #f0f8ff;border: 1px dotted black;border-radius: 0.25em;box-sizing: border-box;margin-bottom: 0.5em;}#sk-container-id-1 div.sk-estimator:hover {background-color: #d4ebff;}#sk-container-id-1 div.sk-parallel-item::after {content: \"\";width: 100%;border-bottom: 1px solid gray;flex-grow: 1;}#sk-container-id-1 div.sk-label:hover label.sk-toggleable__label {background-color: #d4ebff;}#sk-container-id-1 div.sk-serial::before {content: \"\";position: absolute;border-left: 1px solid gray;box-sizing: border-box;top: 0;bottom: 0;left: 50%;z-index: 0;}#sk-container-id-1 div.sk-serial {display: flex;flex-direction: column;align-items: center;background-color: white;padding-right: 0.2em;padding-left: 0.2em;position: relative;}#sk-container-id-1 div.sk-item {position: relative;z-index: 1;}#sk-container-id-1 div.sk-parallel {display: flex;align-items: stretch;justify-content: center;background-color: white;position: relative;}#sk-container-id-1 div.sk-item::before, #sk-container-id-1 div.sk-parallel-item::before {content: \"\";position: absolute;border-left: 1px solid gray;box-sizing: border-box;top: 0;bottom: 0;left: 50%;z-index: -1;}#sk-container-id-1 div.sk-parallel-item {display: flex;flex-direction: column;z-index: 1;position: relative;background-color: white;}#sk-container-id-1 div.sk-parallel-item:first-child::after {align-self: flex-end;width: 50%;}#sk-container-id-1 div.sk-parallel-item:last-child::after {align-self: flex-start;width: 50%;}#sk-container-id-1 div.sk-parallel-item:only-child::after {width: 0;}#sk-container-id-1 div.sk-dashed-wrapped {border: 1px dashed gray;margin: 0 0.4em 0.5em 0.4em;box-sizing: border-box;padding-bottom: 0.4em;background-color: white;}#sk-container-id-1 div.sk-label label {font-family: monospace;font-weight: bold;display: inline-block;line-height: 1.2em;}#sk-container-id-1 div.sk-label-container {text-align: center;}#sk-container-id-1 div.sk-container {/* jupyter's `normalize.less` sets `[hidden] { display: none; }` but bootstrap.min.css set `[hidden] { display: none !important; }` so we also need the `!important` here to be able to override the default hidden behavior on the sphinx rendered scikit-learn.org. See: https://github.com/scikit-learn/scikit-learn/issues/21755 */display: inline-block !important;position: relative;}#sk-container-id-1 div.sk-text-repr-fallback {display: none;}</style><div id=\"sk-container-id-1\" class=\"sk-top-container\"><div class=\"sk-text-repr-fallback\"><pre>LGBMClassifier(metric=&#x27;auc&#x27;, n_estimators=10000, objective=&#x27;binary&#x27;,\n",
       "               random_state=74)</pre><b>In a Jupyter environment, please rerun this cell to show the HTML representation or trust the notebook. <br />On GitHub, the HTML representation is unable to render, please try loading this page with nbviewer.org.</b></div><div class=\"sk-container\" hidden><div class=\"sk-item\"><div class=\"sk-estimator sk-toggleable\"><input class=\"sk-toggleable__control sk-hidden--visually\" id=\"sk-estimator-id-1\" type=\"checkbox\" checked><label for=\"sk-estimator-id-1\" class=\"sk-toggleable__label sk-toggleable__label-arrow\">LGBMClassifier</label><div class=\"sk-toggleable__content\"><pre>LGBMClassifier(metric=&#x27;auc&#x27;, n_estimators=10000, objective=&#x27;binary&#x27;,\n",
       "               random_state=74)</pre></div></div></div></div></div>"
      ],
      "text/plain": [
       "LGBMClassifier(metric='auc', n_estimators=10000, objective='binary',\n",
       "               random_state=74)"
      ]
     },
     "execution_count": 21,
     "metadata": {},
     "output_type": "execute_result"
    }
   ],
   "source": [
    "train_set = lgbm.Dataset(X_train, y_train)\n",
    "val_set = lgbm.Dataset(X_val, y_val)\n",
    "\n",
    "params = {\n",
    "    \"objective\": \"binary\",\n",
    "    \"metric\": \"auc\",\n",
    "    'boosting_type': 'gbdt',\n",
    "    'n_estimators': 10000,\n",
    "    'random_state': 74,\n",
    "}\n",
    "\n",
    "clf = lgbm.LGBMClassifier(**params)\n",
    "\n",
    "clf.fit(X_train, y_train,\n",
    "        eval_set=[(X_train, y_train), (X_val, y_val)],\n",
    "        callbacks=[lgbm.early_stopping(stopping_rounds=100, verbose=True), lgbm.log_evaluation(10)])"
   ]
  },
  {
   "cell_type": "code",
   "execution_count": 22,
   "metadata": {},
   "outputs": [
    {
     "name": "stdout",
     "output_type": "stream",
     "text": [
      "TEST_AUC=0.5595227216738351\n"
     ]
    }
   ],
   "source": [
    "y_pred = clf.predict(X_test)\n",
    "score = roc_auc_score(y_test, y_pred)\n",
    "print(f'TEST_AUC={score}')"
   ]
  },
  {
   "cell_type": "code",
   "execution_count": 23,
   "metadata": {},
   "outputs": [
    {
     "data": {
      "text/plain": [
       "[Text(0.5, 23.52222222222222, 'Pred'), Text(50.722222222222214, 0.5, 'True')]"
      ]
     },
     "execution_count": 23,
     "metadata": {},
     "output_type": "execute_result"
    },
    {
     "data": {
      "image/png": "[encoded data removed]",
      "text/plain": [
       "<Figure size 640x480 with 2 Axes>"
      ]
     },
     "metadata": {},
     "output_type": "display_data"
    }
   ],
   "source": [
    "cm = confusion_matrix(y_test, y_pred)\n",
    "h_map = sns.heatmap(cm, annot=True, cmap='Blues', fmt='d')\n",
    "h_map.set( xlabel = \"Pred\", ylabel = \"True\")"
   ]
  },
  {
   "cell_type": "code",
   "execution_count": 24,
   "metadata": {},
   "outputs": [
    {
     "data": {
      "text/plain": [
       "[<matplotlib.lines.Line2D at 0x7f316953ef70>]"
      ]
     },
     "execution_count": 24,
     "metadata": {},
     "output_type": "execute_result"
    },
    {
     "data": {
      "image/png": "[encoded data removed]",
      "text/plain": [
       "<Figure size 640x480 with 1 Axes>"
      ]
     },
     "metadata": {},
     "output_type": "display_data"
    }
   ],
   "source": [
    "fig, ax = plt.subplots()\n",
    "\n",
    "fpr, tpr, _ = roc_curve(y_test, y_pred)\n",
    "ax.grid()\n",
    "fig.tight_layout()\n",
    "ax.plot(fpr, tpr)\n",
    "\n",
    "ax.plot(np.linspace(0, 1), np.linspace(0, 1), '--', color='grey')"
   ]
  },
  {
   "cell_type": "code",
   "execution_count": 25,
   "metadata": {},
   "outputs": [
    {
     "data": {
      "text/html": [
       "<div>\n",
       "<style scoped>\n",
       "    .dataframe tbody tr th:only-of-type {\n",
       "        vertical-align: middle;\n",
       "    }\n",
       "\n",
       "    .dataframe tbody tr th {\n",
       "        vertical-align: top;\n",
       "    }\n",
       "\n",
       "    .dataframe thead th {\n",
       "        text-align: right;\n",
       "    }\n",
       "</style>\n",
       "<table border=\"1\" class=\"dataframe\">\n",
       "  <thead>\n",
       "    <tr style=\"text-align: right;\">\n",
       "      <th></th>\n",
       "      <th>importance</th>\n",
       "    </tr>\n",
       "  </thead>\n",
       "  <tbody>\n",
       "    <tr>\n",
       "      <th>jockey</th>\n",
       "      <td>477</td>\n",
       "    </tr>\n",
       "    <tr>\n",
       "      <th>horse_trainer</th>\n",
       "      <td>291</td>\n",
       "    </tr>\n",
       "    <tr>\n",
       "      <th>horse_owner</th>\n",
       "      <td>283</td>\n",
       "    </tr>\n",
       "    <tr>\n",
       "      <th>horse_weight</th>\n",
       "      <td>232</td>\n",
       "    </tr>\n",
       "    <tr>\n",
       "      <th>id</th>\n",
       "      <td>143</td>\n",
       "    </tr>\n",
       "    <tr>\n",
       "      <th>race_name</th>\n",
       "      <td>131</td>\n",
       "    </tr>\n",
       "    <tr>\n",
       "      <th>day_of_year</th>\n",
       "      <td>104</td>\n",
       "    </tr>\n",
       "    <tr>\n",
       "      <th>date_cos</th>\n",
       "      <td>95</td>\n",
       "    </tr>\n",
       "    <tr>\n",
       "      <th>age</th>\n",
       "      <td>94</td>\n",
       "    </tr>\n",
       "    <tr>\n",
       "      <th>number_of_entries</th>\n",
       "      <td>88</td>\n",
       "    </tr>\n",
       "    <tr>\n",
       "      <th>difference_weight</th>\n",
       "      <td>84</td>\n",
       "    </tr>\n",
       "    <tr>\n",
       "      <th>date_sin</th>\n",
       "      <td>82</td>\n",
       "    </tr>\n",
       "    <tr>\n",
       "      <th>race_start</th>\n",
       "      <td>76</td>\n",
       "    </tr>\n",
       "    <tr>\n",
       "      <th>sex_and_age</th>\n",
       "      <td>74</td>\n",
       "    </tr>\n",
       "    <tr>\n",
       "      <th>burden_weight</th>\n",
       "      <td>63</td>\n",
       "    </tr>\n",
       "    <tr>\n",
       "      <th>horse_order</th>\n",
       "      <td>53</td>\n",
       "    </tr>\n",
       "    <tr>\n",
       "      <th>race_place</th>\n",
       "      <td>28</td>\n",
       "    </tr>\n",
       "    <tr>\n",
       "      <th>box</th>\n",
       "      <td>27</td>\n",
       "    </tr>\n",
       "    <tr>\n",
       "      <th>race_distance</th>\n",
       "      <td>17</td>\n",
       "    </tr>\n",
       "    <tr>\n",
       "      <th>race_state</th>\n",
       "      <td>8</td>\n",
       "    </tr>\n",
       "    <tr>\n",
       "      <th>race_weather</th>\n",
       "      <td>7</td>\n",
       "    </tr>\n",
       "    <tr>\n",
       "      <th>race_course</th>\n",
       "      <td>3</td>\n",
       "    </tr>\n",
       "    <tr>\n",
       "      <th>sex</th>\n",
       "      <td>0</td>\n",
       "    </tr>\n",
       "  </tbody>\n",
       "</table>\n",
       "</div>"
      ],
      "text/plain": [
       "                   importance\n",
       "jockey                    477\n",
       "horse_trainer             291\n",
       "horse_owner               283\n",
       "horse_weight              232\n",
       "id                        143\n",
       "race_name                 131\n",
       "day_of_year               104\n",
       "date_cos                   95\n",
       "age                        94\n",
       "number_of_entries          88\n",
       "difference_weight          84\n",
       "date_sin                   82\n",
       "race_start                 76\n",
       "sex_and_age                74\n",
       "burden_weight              63\n",
       "horse_order                53\n",
       "race_place                 28\n",
       "box                        27\n",
       "race_distance              17\n",
       "race_state                  8\n",
       "race_weather                7\n",
       "race_course                 3\n",
       "sex                         0"
      ]
     },
     "metadata": {},
     "output_type": "display_data"
    }
   ],
   "source": [
    "importance = pd.DataFrame(clf.feature_importances_, index=X_test.columns, columns=['importance'])\n",
    "importance = importance.sort_values('importance', ascending=False)\n",
    "display(importance)"
   ]
  },
  {
   "cell_type": "code",
   "execution_count": 26,
   "metadata": {},
   "outputs": [
    {
     "data": {
      "text/plain": [
       "<Axes: title={'center': 'Feature importance'}, xlabel='Feature importance', ylabel='Features'>"
      ]
     },
     "execution_count": 26,
     "metadata": {},
     "output_type": "execute_result"
    },
    {
     "data": {
      "image/png": "[encoded data removed]",
      "text/plain": [
       "<Figure size 640x480 with 1 Axes>"
      ]
     },
     "metadata": {},
     "output_type": "display_data"
    }
   ],
   "source": [
    "lgbm.plot_importance(clf)"
   ]
  },
  {
   "cell_type": "code",
   "execution_count": 27,
   "metadata": {},
   "outputs": [
    {
     "name": "stdout",
     "output_type": "stream",
     "text": [
      "The table 'model_evaluation' already exists in the database.\n"
     ]
    },
    {
     "name": "stderr",
     "output_type": "stream",
     "text": [
      "/tmp/ipykernel_201/2181401413.py:9: MovedIn20Warning: The ``declarative_base()`` function is now available as sqlalchemy.orm.declarative_base(). (deprecated since: 2.0) (Background on SQLAlchemy 2.0 at: https://sqlalche.me/e/b8d9)\n",
      "  Base = declarative_base()\n"
     ]
    }
   ],
   "source": [
    "from sqlalchemy import create_engine, Column, Integer, Float, String, DateTime, Text\n",
    "from sqlalchemy.ext.declarative import declarative_base\n",
    "from sqlalchemy.orm import sessionmaker\n",
    "from sqlalchemy.dialects.mysql import JSON\n",
    "from sqlalchemy import inspect\n",
    "import datetime\n",
    "import json\n",
    "\n",
    "Base = declarative_base()\n",
    "\n",
    "class ModelEvaluation(Base):\n",
    "    __tablename__ = 'model_evaluation'\n",
    "    id = Column(Integer, primary_key=True, autoincrement=True)\n",
    "    feature_importance_json = Column(JSON)\n",
    "    TP = Column(Integer)\n",
    "    FP = Column(Integer)\n",
    "    FN = Column(Integer)\n",
    "    TN = Column(Integer)\n",
    "    FPR = Column(JSON)\n",
    "    TPR = Column(JSON)\n",
    "    AUC = Column(Float)\n",
    "    memo = Column(Text)\n",
    "    version = Column(String(255))\n",
    "    created_date = Column(DateTime, default=datetime.datetime.utcnow)\n",
    "\n",
    "inspector = inspect(engine)\n",
    "\n",
    "if not inspector.has_table(ModelEvaluation.__tablename__):\n",
    "    Base.metadata.create_all(engine)\n",
    "else:\n",
    "    print(f\"The table '{ModelEvaluation.__tablename__}' already exists in the database.\")\n",
    "\n",
    "Session = sessionmaker(bind=engine)\n",
    "session = Session()"
   ]
  },
  {
   "cell_type": "code",
   "execution_count": 28,
   "metadata": {},
   "outputs": [],
   "source": [
    "importance_json = importance.to_json()\n",
    "TN = int(cm[0][0])\n",
    "FP = int(cm[0][1])\n",
    "FN = int(cm[1][0])\n",
    "TP = int(cm[1][1])\n",
    "FPR = fpr.tolist()\n",
    "TPR = tpr.tolist()\n",
    "memo = \"First model evaluation\"\n",
    "version = \"v0.0\"\n",
    "\n",
    "\n",
    "new_evaluation = ModelEvaluation(\n",
    "    feature_importance_json=importance_json,\n",
    "    TP=TP,\n",
    "    FP=FP,\n",
    "    FN=FN,\n",
    "    TN=TN,\n",
    "    FPR=FPR,\n",
    "    TPR=TPR,\n",
    "    AUC=score,\n",
    "    memo=memo,\n",
    "    version=version,\n",
    "    created_date=datetime.datetime.utcnow()\n",
    ")\n",
    "\n",
    "session.add(new_evaluation)\n",
    "\n",
    "session.commit()\n",
    "\n",
    "session.close()"
   ]
  },
  {
   "cell_type": "code",
   "execution_count": 29,
   "metadata": {},
   "outputs": [
    {
     "name": "stdout",
     "output_type": "stream",
     "text": [
      "Collecting mysql-connector-python\n",
      "  Downloading mysql_connector_python-8.3.0-cp39-cp39-manylinux_2_17_x86_64.whl.metadata (1.9 kB)\n",
      "Downloading mysql_connector_python-8.3.0-cp39-cp39-manylinux_2_17_x86_64.whl (21.5 MB)\n",
      "\u001b[2K   \u001b[90m━━━━━━━━━━━━━━━━━━━━━━━━━━━━━━━━━━━━━━━━\u001b[0m \u001b[32m21.5/21.5 MB\u001b[0m \u001b[31m36.8 MB/s\u001b[0m eta \u001b[36m0:00:00\u001b[0m00:01\u001b[0m00:01\u001b[0m\n",
      "\u001b[?25hInstalling collected packages: mysql-connector-python\n",
      "Successfully installed mysql-connector-python-8.3.0\n",
      "\u001b[33mWARNING: Running pip as the 'root' user can result in broken permissions and conflicting behaviour with the system package manager. It is recommended to use a virtual environment instead: https://pip.pypa.io/warnings/venv\u001b[0m\u001b[33m\n",
      "\u001b[0m"
     ]
    }
   ],
   "source": [
    "!pip install mysql-connector-python"
   ]
  },
  {
   "cell_type": "code",
   "execution_count": null,
   "metadata": {},
   "outputs": [],
   "source": []
  }
 ],
 "metadata": {
  "kernelspec": {
   "display_name": "Python 3 (ipykernel)",
   "language": "python",
   "name": "python3"
  },
  "language_info": {
   "codemirror_mode": {
    "name": "ipython",
    "version": 3
   },
   "file_extension": ".py",
   "mimetype": "text/x-python",
   "name": "python",
   "nbconvert_exporter": "python",
   "pygments_lexer": "ipython3",
   "version": "3.9.18"
  },
  "vscode": {
   "interpreter": {
    "hash": "7ff69bacaadc7e2cd0d1da4a544b42c7a912005d437346d3412f68a334aa5606"
   }
  }
 },
 "nbformat": 4,
 "nbformat_minor": 2
}
